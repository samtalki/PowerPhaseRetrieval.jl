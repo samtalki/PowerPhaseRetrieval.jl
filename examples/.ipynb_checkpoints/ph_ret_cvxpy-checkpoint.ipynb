{
 "cells": [
  {
   "cell_type": "code",
   "execution_count": 1,
   "id": "e715ba16-f9f5-4aff-a030-ff31cd5ebc31",
   "metadata": {},
   "outputs": [],
   "source": [
    "import numpy as np\n",
    "import cvxpy as cp"
   ]
  },
  {
   "cell_type": "code",
   "execution_count": 15,
   "id": "6daaddfd-4cf3-4fe2-97cb-132d2def6aa2",
   "metadata": {},
   "outputs": [],
   "source": [
    "np.random.seed(12112022)\n",
    "n = 20\n",
    "p = 2\n",
    "A = np.random.rand(n,p) + 1j*np.random.rand(n,p)\n",
    "x = np.random.rand(p) + 1j*np.random.rand(p)\n",
    "b = np.abs(A @ x) + np.random.randn(n)\n",
    "b_true = A*x\n",
    "M = np.diag(b) @ (np.eye(n)-A @ np.linalg.pinv(A)) @ np.diag(b)"
   ]
  },
  {
   "cell_type": "code",
   "execution_count": null,
   "id": "69da1a6f-351e-4879-a2b8-4db5d26bd9f1",
   "metadata": {},
   "outputs": [],
   "source": [
    "## PhaseCut ##\n",
    "def phasecut(b,A_n):\n",
    "    X = cp.Variable((m,m),hermitian = True)\n",
    "    M = np.diag(b)@ (np.identity(m) - A_n @ LA.pinv(A_n)) @ np.diag(b)\n",
    "    obj = cp.real(cp.trace(X@M))\n",
    "    constr = [X >> 0]\n",
    "    constr += [cp.diag(X) == np.ones(m,)]\n",
    "    prob = cp.Problem(cp.Minimize(obj), constr)\n",
    "    prob.solve(solver=cp.MOSEK)\n",
    "    p = LA.eig(X.value)[1][:,0]\n",
    "    x_hat = reconstruct(b,p)\n",
    "    err = norm_err(A_inv(x_hat))\n",
    "    print(\"PhaseCut error: %0.4f\" % err)\n",
    "    return x_hat, err"
   ]
  },
  {
   "cell_type": "code",
   "execution_count": 19,
   "id": "5115a338-71be-4f8d-8f61-0d1b2704de65",
   "metadata": {},
   "outputs": [
    {
     "ename": "ValueError",
     "evalue": "The 'minimize' objective must be real valued.",
     "output_type": "error",
     "traceback": [
      "\u001b[0;31m---------------------------------------------------------------------------\u001b[0m",
      "\u001b[0;31mValueError\u001b[0m                                Traceback (most recent call last)",
      "Input \u001b[0;32mIn [19]\u001b[0m, in \u001b[0;36m<cell line: 6>\u001b[0;34m()\u001b[0m\n\u001b[1;32m      2\u001b[0m objective \u001b[38;5;241m=\u001b[39m cp\u001b[38;5;241m.\u001b[39mtrace(U\u001b[38;5;129m@M\u001b[39m)\n\u001b[1;32m      3\u001b[0m constraints\u001b[38;5;241m=\u001b[39m [\n\u001b[1;32m      4\u001b[0m     cp\u001b[38;5;241m.\u001b[39mdiag(U) \u001b[38;5;241m==\u001b[39m \u001b[38;5;241m1\u001b[39m,\n\u001b[1;32m      5\u001b[0m     U \u001b[38;5;241m>>\u001b[39m \u001b[38;5;241m0\u001b[39m]\n\u001b[0;32m----> 6\u001b[0m prob \u001b[38;5;241m=\u001b[39m cp\u001b[38;5;241m.\u001b[39mProblem(\u001b[43mcp\u001b[49m\u001b[38;5;241;43m.\u001b[39;49m\u001b[43mMinimize\u001b[49m\u001b[43m(\u001b[49m\u001b[43mobjective\u001b[49m\u001b[43m)\u001b[49m,constraints)\n\u001b[1;32m      7\u001b[0m prob\u001b[38;5;241m.\u001b[39msolve()\n",
      "File \u001b[0;32m~/.local/lib/python3.10/site-packages/cvxpy/problems/objective.py:48\u001b[0m, in \u001b[0;36mObjective.__init__\u001b[0;34m(self, expr)\u001b[0m\n\u001b[1;32m     45\u001b[0m     \u001b[38;5;28;01mraise\u001b[39;00m \u001b[38;5;167;01mValueError\u001b[39;00m(\u001b[38;5;124m\"\u001b[39m\u001b[38;5;124mThe \u001b[39m\u001b[38;5;124m'\u001b[39m\u001b[38;5;132;01m%s\u001b[39;00m\u001b[38;5;124m'\u001b[39m\u001b[38;5;124m objective must resolve to a scalar.\u001b[39m\u001b[38;5;124m\"\u001b[39m\n\u001b[1;32m     46\u001b[0m                      \u001b[38;5;241m%\u001b[39m \u001b[38;5;28mself\u001b[39m\u001b[38;5;241m.\u001b[39mNAME)\n\u001b[1;32m     47\u001b[0m \u001b[38;5;28;01mif\u001b[39;00m \u001b[38;5;129;01mnot\u001b[39;00m \u001b[38;5;28mself\u001b[39m\u001b[38;5;241m.\u001b[39margs[\u001b[38;5;241m0\u001b[39m]\u001b[38;5;241m.\u001b[39mis_real():\n\u001b[0;32m---> 48\u001b[0m     \u001b[38;5;28;01mraise\u001b[39;00m \u001b[38;5;167;01mValueError\u001b[39;00m(\u001b[38;5;124m\"\u001b[39m\u001b[38;5;124mThe \u001b[39m\u001b[38;5;124m'\u001b[39m\u001b[38;5;132;01m%s\u001b[39;00m\u001b[38;5;124m'\u001b[39m\u001b[38;5;124m objective must be real valued.\u001b[39m\u001b[38;5;124m\"\u001b[39m\n\u001b[1;32m     49\u001b[0m                      \u001b[38;5;241m%\u001b[39m \u001b[38;5;28mself\u001b[39m\u001b[38;5;241m.\u001b[39mNAME)\n",
      "\u001b[0;31mValueError\u001b[0m: The 'minimize' objective must be real valued."
     ]
    }
   ],
   "source": [
    "U = cp.Variable([n,n],hermitian=True)\n",
    "objective = cp.real(cp.trace(U@M))\n",
    "constraints= [\n",
    "    cp.diag(U) == np.ones(m),\n",
    "    U >> 0]\n",
    "prob = cp.Problem(cp.Minimize(objective),constraints)\n",
    "prob.solve()\n"
   ]
  },
  {
   "cell_type": "code",
   "execution_count": null,
   "id": "ba152005-694c-44c7-aab6-33b77ad7f586",
   "metadata": {},
   "outputs": [],
   "source": [
    "U = U.value\n",
    "\n",
    "B, C = np.linalg.eig(U);\n",
    "\n",
    "u = C[:,1];\n",
    "for i in 1:n\n",
    "    u[i] = u[i]/abs(u[i])\n",
    "end\n",
    "\n",
    "b_angle_hat = atan.(imag.(u) ./ real.(u))\n",
    "b_angle_true = atan.( imag.(b_true) ./ real.(b_true))\n",
    "x_angle = atan.(imag.(x) ./ real.(x))"
   ]
  }
 ],
 "metadata": {
  "kernelspec": {
   "display_name": "Python 3 (ipykernel)",
   "language": "python",
   "name": "python3"
  },
  "language_info": {
   "codemirror_mode": {
    "name": "ipython",
    "version": 3
   },
   "file_extension": ".py",
   "mimetype": "text/x-python",
   "name": "python",
   "nbconvert_exporter": "python",
   "pygments_lexer": "ipython3",
   "version": "3.10.5"
  }
 },
 "nbformat": 4,
 "nbformat_minor": 5
}
