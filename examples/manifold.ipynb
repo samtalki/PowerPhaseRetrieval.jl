{
 "cells": [
  {
   "cell_type": "code",
   "execution_count": 6,
   "metadata": {
    "scrolled": true
   },
   "outputs": [
    {
     "name": "stderr",
     "output_type": "stream",
     "text": [
      "WARNING: replacing module PowerPhaseRetrieval.\n",
      "\u001b[33m\u001b[1m┌ \u001b[22m\u001b[39m\u001b[33m\u001b[1mWarning: \u001b[22m\u001b[39mReplacing docs for `Main.PowerPhaseRetrieval.compute_basic_ac_pf! :: Tuple{Dict{String, Any}}` in module `Main.PowerPhaseRetrieval`\n",
      "\u001b[33m\u001b[1m└ \u001b[22m\u001b[39m\u001b[90m@ Base.Docs docs/Docs.jl:240\u001b[39m\n",
      "\u001b[33m\u001b[1m┌ \u001b[22m\u001b[39m\u001b[33m\u001b[1mWarning: \u001b[22m\u001b[39mReplacing docs for `Main.PowerPhaseRetrieval.calc_closest_rank_r :: Tuple{Matrix, Integer}` in module `Main.PowerPhaseRetrieval`\n",
      "\u001b[33m\u001b[1m└ \u001b[22m\u001b[39m\u001b[90m@ Base.Docs docs/Docs.jl:240\u001b[39m\n",
      "\u001b[33m\u001b[1m┌ \u001b[22m\u001b[39m\u001b[33m\u001b[1mWarning: \u001b[22m\u001b[39mReplacing docs for `Main.PowerPhaseRetrieval.calc_closest_rank_r :: Tuple{Matrix, Integer}` in module `Main.PowerPhaseRetrieval`\n",
      "\u001b[33m\u001b[1m└ \u001b[22m\u001b[39m\u001b[90m@ Base.Docs docs/Docs.jl:240\u001b[39m\n"
     ]
    }
   ],
   "source": [
    "include(\"../src/PowerPhaseRetrieval.jl\")\n",
    "using PowerModels,CairoMakie,LinearAlgebra\n",
    "import PowerPhaseRetrieval as PPR"
   ]
  },
  {
   "cell_type": "code",
   "execution_count": 7,
   "metadata": {},
   "outputs": [
    {
     "data": {
      "text/plain": [
       "2×2 Matrix{Float64}:\n",
       " 0.285009  -0.0\n",
       " 0.0       -0.285009"
      ]
     },
     "execution_count": 7,
     "metadata": {},
     "output_type": "execute_result"
    }
   ],
   "source": [
    "net = make_basic_network(parse_file(\"/home/sam/github/PowerSensitivities.jl/data/radial_test/case2.m\"))\n",
    "compute_ac_pf!(net)\n",
    "S = PPR.calc_voltage_sensitivity_matrix(net)\n",
    "Svp,Svq = S.vp,S.vq\n",
    "K = PPR.calc_K_matrix(net)"
   ]
  },
  {
   "cell_type": "code",
   "execution_count": 4,
   "metadata": {},
   "outputs": [
    {
     "ename": "LoadError",
     "evalue": "UndefVarError: net not defined",
     "output_type": "error",
     "traceback": [
      "UndefVarError: net not defined",
      "",
      "Stacktrace:",
      " [1] top-level scope",
      "   @ In[4]:1"
     ]
    }
   ],
   "source": [
    "net[\"load\"][\"1\"]"
   ]
  },
  {
   "cell_type": "code",
   "execution_count": 5,
   "metadata": {},
   "outputs": [
    {
     "data": {
      "text/plain": [
       "phaseless_manifold"
      ]
     },
     "execution_count": 5,
     "metadata": {},
     "output_type": "execute_result"
    }
   ],
   "source": [
    "\"\"\"\n",
    "Computes the space of all active and reactive power demands that satisfy the phaseless observability condition.\n",
    "\"\"\"\n",
    "function phaseless_manifold(net;sample_step=0.05)\n",
    "    qg_min,qg_max = net[\"gen\"][\"1\"][\"qmin\"],net[\"gen\"][\"1\"][\"qmax\"]\n",
    "    pg_min,pg_max = net[\"gen\"][\"1\"][\"pmin\"],net[\"gen\"][\"1\"][\"pmax\"]\n",
    "    compute_ac_pf!(net)\n",
    "    S = PPR.calc_voltage_sensitivity_matrix(net)\n",
    "    Svp,Svq = S.vp,S.vq\n",
    "    nQ_steps = length(Vector(qg_min:sample_step:qg_max))\n",
    "    nP_steps = length(Vector(pg_min:sample_step:pg_max))\n",
    "    is_observable = zeros(nP_steps,nQ_steps)\n",
    "    V = zeros(ComplexF64,nP_steps,nQ_steps)\n",
    "    Sg = zeros(ComplexF64,nP_steps,nQ_steps)\n",
    "    Pg = Vector(pg_min:sample_step:pg_max)\n",
    "    Qg = Vector(qg_min:sample_step:qg_max)\n",
    "    for (i,pg) in enumerate(Vector(pg_min:sample_step:pg_max))\n",
    "        for (j,qg) in enumerate(Vector(qg_min:sample_step:qg_max))\n",
    "            #print(qg_min,qg_max,pg_min,pg_max,pg,qg)\n",
    "            net[\"gen\"][\"1\"][\"pg\"] = pg\n",
    "            net[\"gen\"][\"1\"][\"qg\"] = qg\n",
    "            compute_ac_pf!(net)\n",
    "            S = PPR.calc_voltage_sensitivity_matrix(net)\n",
    "            K = PPR.calc_K_matrix(net)\n",
    "            Svp,Svq = S.vp,S.vq\n",
    "            Sdag = Svp .+ Svq*K\n",
    "            vrect = calc_basic_bus_voltage(net)\n",
    "            s = calc_basic_bus_injection(net)\n",
    "            is_observable[i,j] = (rank(Sdag) == 2)\n",
    "            if is_observable[i,j] == 1 \n",
    "                V[i,j] = vrect[1]\n",
    "                Sg[i,j] = s[1]\n",
    "            else \n",
    "                V[i,j] = nothing\n",
    "                Sg[i,j] = nothing\n",
    "            end\n",
    "        end\n",
    "    end\n",
    "    return is_observable,V,Sg,Pg,Qg\n",
    "end"
   ]
  },
  {
   "cell_type": "code",
   "execution_count": 59,
   "metadata": {},
   "outputs": [
    {
     "ename": "LoadError",
     "evalue": "ArgumentError: invalid argument #4 to LAPACK call",
     "output_type": "error",
     "traceback": [
      "ArgumentError: invalid argument #4 to LAPACK call",
      "",
      "Stacktrace:",
      " [1] chklapackerror",
      "   @ /usr/share/julia/stdlib/v1.8/LinearAlgebra/src/lapack.jl:39 [inlined]",
      " [2] gesdd!(job::Char, A::Matrix{Float64})",
      "   @ LinearAlgebra.LAPACK /usr/share/julia/stdlib/v1.8/LinearAlgebra/src/lapack.jl:1665",
      " [3] svdvals!",
      "   @ /usr/share/julia/stdlib/v1.8/LinearAlgebra/src/svd.jl:218 [inlined]",
      " [4] svdvals(A::Matrix{Float64})",
      "   @ LinearAlgebra /usr/share/julia/stdlib/v1.8/LinearAlgebra/src/svd.jl:245",
      " [5] rank(A::Matrix{Float64}; atol::Float64, rtol::Float64)",
      "   @ LinearAlgebra /usr/share/julia/stdlib/v1.8/LinearAlgebra/src/generic.jl:977",
      " [6] rank(A::Matrix{Float64})",
      "   @ LinearAlgebra /usr/share/julia/stdlib/v1.8/LinearAlgebra/src/generic.jl:975",
      " [7] phaseless_manifold(net::Dict{String, Any}; sample_step::Float64)",
      "   @ Main ./In[58]:29",
      " [8] phaseless_manifold(net::Dict{String, Any})",
      "   @ Main ./In[58]:4",
      " [9] top-level scope",
      "   @ In[59]:1"
     ]
    }
   ],
   "source": [
    "is_observable,V,Sg,Pg,Qg = phaseless_manifold(net)"
   ]
  },
  {
   "cell_type": "code",
   "execution_count": 57,
   "metadata": {},
   "outputs": [
    {
     "data": {
      "image/png": "[encoded data removed]"
     },
     "execution_count": 57,
     "metadata": {},
     "output_type": "execute_result"
    }
   ],
   "source": [
    "f = Figure()\n",
    "Axis(f[1, 1])\n",
    "contourf!(Pg,Qg,angle.(V))\n",
    "f"
   ]
  },
  {
   "cell_type": "code",
   "execution_count": 38,
   "metadata": {},
   "outputs": [
    {
     "data": {
      "text/plain": [
       "205×114 Matrix{ComplexF64}:\n",
       " 0.981859-0.0913893im  0.981859-0.0913893im  …  0.981859-0.0913893im\n",
       " 0.981859-0.0913893im  0.981859-0.0913893im     0.981859-0.0913893im\n",
       " 0.981859-0.0913893im  0.981859-0.0913893im     0.981859-0.0913893im\n",
       " 0.981859-0.0913893im  0.981859-0.0913893im     0.981859-0.0913893im\n",
       " 0.981859-0.0913893im  0.981859-0.0913893im     0.981859-0.0913893im\n",
       " 0.981859-0.0913893im  0.981859-0.0913893im  …  0.981859-0.0913893im\n",
       " 0.981859-0.0913893im  0.981859-0.0913893im     0.981859-0.0913893im\n",
       " 0.981859-0.0913893im  0.981859-0.0913893im     0.981859-0.0913893im\n",
       " 0.981859-0.0913893im  0.981859-0.0913893im     0.981859-0.0913893im\n",
       " 0.981859-0.0913893im  0.981859-0.0913893im     0.981859-0.0913893im\n",
       " 0.981859-0.0913893im  0.981859-0.0913893im  …  0.981859-0.0913893im\n",
       " 0.981859-0.0913893im  0.981859-0.0913893im     0.981859-0.0913893im\n",
       " 0.981859-0.0913893im  0.981859-0.0913893im     0.981859-0.0913893im\n",
       "         ⋮                                   ⋱  \n",
       " 0.981859-0.0913893im  0.981859-0.0913893im     0.981859-0.0913893im\n",
       " 0.981859-0.0913893im  0.981859-0.0913893im     0.981859-0.0913893im\n",
       " 0.981859-0.0913893im  0.981859-0.0913893im  …  0.981859-0.0913893im\n",
       " 0.981859-0.0913893im  0.981859-0.0913893im     0.981859-0.0913893im\n",
       " 0.981859-0.0913893im  0.981859-0.0913893im     0.981859-0.0913893im\n",
       " 0.981859-0.0913893im  0.981859-0.0913893im     0.981859-0.0913893im\n",
       " 0.981859-0.0913893im  0.981859-0.0913893im     0.981859-0.0913893im\n",
       " 0.981859-0.0913893im  0.981859-0.0913893im  …  0.981859-0.0913893im\n",
       " 0.981859-0.0913893im  0.981859-0.0913893im     0.981859-0.0913893im\n",
       " 0.981859-0.0913893im  0.981859-0.0913893im     0.981859-0.0913893im\n",
       " 0.981859-0.0913893im  0.981859-0.0913893im     0.981859-0.0913893im\n",
       " 0.981859-0.0913893im  0.981859-0.0913893im     0.981859-0.0913893im"
      ]
     },
     "execution_count": 38,
     "metadata": {},
     "output_type": "execute_result"
    }
   ],
   "source": [
    "V"
   ]
  },
  {
   "cell_type": "code",
   "execution_count": 9,
   "metadata": {},
   "outputs": [
    {
     "data": {
      "text/plain": [
       "0.0"
      ]
     },
     "execution_count": 9,
     "metadata": {},
     "output_type": "execute_result"
    }
   ],
   "source": [
    "maximum(angle.(V))"
   ]
  },
  {
   "cell_type": "code",
   "execution_count": null,
   "metadata": {},
   "outputs": [],
   "source": []
  },
  {
   "cell_type": "code",
   "execution_count": null,
   "metadata": {},
   "outputs": [],
   "source": []
  }
 ],
 "metadata": {
  "kernelspec": {
   "display_name": "Julia 1.7.3",
   "language": "julia",
   "name": "julia-1.7"
  },
  "language_info": {
   "file_extension": ".jl",
   "mimetype": "application/julia",
   "name": "julia",
   "version": "1.8.0"
  }
 },
 "nbformat": 4,
 "nbformat_minor": 2
}
