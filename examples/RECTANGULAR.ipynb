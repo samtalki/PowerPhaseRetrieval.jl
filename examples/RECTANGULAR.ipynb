{
 "cells": [
  {
   "cell_type": "code",
   "execution_count": 3,
   "id": "9f7378e5-a573-4b53-b489-f53d1461b1a6",
   "metadata": {},
   "outputs": [],
   "source": [
    "import numpy as np\n",
    "import matplotlib.pyplot as plt\n",
    "import cvxpy as cp"
   ]
  },
  {
   "cell_type": "code",
   "execution_count": null,
   "id": "e0b2bdf0-6fd3-4f06-9e10-b7663b92af43",
   "metadata": {},
   "outputs": [],
   "source": [
    "r,x = 0.05,0.2\n"
   ]
  },
  {
   "cell_type": "code",
   "execution_count": null,
   "id": "4066e3dc-91dc-44ed-ba85-bfd5222999af",
   "metadata": {},
   "outputs": [],
   "source": [
    "def p(x):\n",
    "    e,u = x\n",
    "    \n",
    "    \n",
    "def q(x):\n",
    "    e,u = x\n",
    "    \n",
    "def f(x):\n",
    "    e,u = x\n",
    "    "
   ]
  }
 ],
 "metadata": {
  "kernelspec": {
   "display_name": "Python 3 (ipykernel)",
   "language": "python",
   "name": "python3"
  },
  "language_info": {
   "codemirror_mode": {
    "name": "ipython",
    "version": 3
   },
   "file_extension": ".py",
   "mimetype": "text/x-python",
   "name": "python",
   "nbconvert_exporter": "python",
   "pygments_lexer": "ipython3",
   "version": "3.9.7"
  }
 },
 "nbformat": 4,
 "nbformat_minor": 5
}
