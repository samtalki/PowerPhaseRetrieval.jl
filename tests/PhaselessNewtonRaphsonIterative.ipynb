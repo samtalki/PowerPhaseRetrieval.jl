{
 "cells": [
  {
   "cell_type": "code",
   "execution_count": 141,
   "id": "cb1b96fc",
   "metadata": {
    "collapsed": true
   },
   "outputs": [
    {
     "name": "stderr",
     "output_type": "stream",
     "text": [
      "WARNING: replacing module PowerPhaseRetrieval.\n",
      "\u001b[33m\u001b[1m┌ \u001b[22m\u001b[39m\u001b[33m\u001b[1mWarning: \u001b[22m\u001b[39mReplacing docs for `Main.PowerPhaseRetrieval.compute_basic_ac_pf! :: Tuple{Dict{String, Any}}` in module `Main.PowerPhaseRetrieval`\n",
      "\u001b[33m\u001b[1m└ \u001b[22m\u001b[39m\u001b[90m@ Base.Docs docs/Docs.jl:240\u001b[39m\n",
      "\u001b[33m\u001b[1m┌ \u001b[22m\u001b[39m\u001b[33m\u001b[1mWarning: \u001b[22m\u001b[39mReplacing docs for `Main.PowerPhaseRetrieval.calc_closest_rank_r :: Tuple{Matrix, Integer}` in module `Main.PowerPhaseRetrieval`\n",
      "\u001b[33m\u001b[1m└ \u001b[22m\u001b[39m\u001b[90m@ Base.Docs docs/Docs.jl:240\u001b[39m\n",
      "\u001b[33m\u001b[1m┌ \u001b[22m\u001b[39m\u001b[33m\u001b[1mWarning: \u001b[22m\u001b[39mReplacing docs for `Main.PowerPhaseRetrieval.calc_closest_rank_r :: Tuple{Matrix, Integer}` in module `Main.PowerPhaseRetrieval`\n",
      "\u001b[33m\u001b[1m└ \u001b[22m\u001b[39m\u001b[90m@ Base.Docs docs/Docs.jl:240\u001b[39m\n"
     ]
    }
   ],
   "source": [
    "include(\"../src/PowerPhaseRetrieval.jl\")\n",
    "import PowerModels as PM\n",
    "import .PowerPhaseRetrieval as PPR\n",
    "using JuMP,Ipopt,CairoMakie\n",
    "using LinearAlgebra,Random,Statistics,LaTeXStrings"
   ]
  },
  {
   "cell_type": "code",
   "execution_count": 127,
   "id": "3058bcb8",
   "metadata": {},
   "outputs": [
    {
     "data": {
      "text/plain": [
       "est_bus_voltage_phase (generic function with 2 methods)"
      ]
     },
     "execution_count": 127,
     "metadata": {},
     "output_type": "execute_result"
    }
   ],
   "source": [
    "function est_bus_voltage_phase(va_nom,∂pv,∂qv,vm_obs,f_x_obs,q_nom,p_nom,∂pθ_true,∂qθ_true)\n",
    "    n_bus = length(va_nom)\n",
    "    #make phase retrieval model\n",
    "    println(\"test\")\n",
    "    model = Model(Ipopt.Optimizer)\n",
    "    #set_silent(model)\n",
    "\n",
    "    #----- Variables and expressions\n",
    "    #--- Phase VariableS\n",
    "    @variable(model,θ[1:n_bus])\n",
    "\n",
    "    #--- Phase jacobian variables\n",
    "    @variable(model,∂pθ[1:n_bus,1:n_bus])\n",
    "    @variable(model,∂qθ[1:n_bus,1:n_bus])\n",
    "\n",
    "    #---- Expressions\n",
    "    #- Grid state with unknown phase angles.\n",
    "    x = [θ; vm_obs]\n",
    "    #- Jacobian matrix\n",
    "    J = [\n",
    "        ∂pθ ∂pv;\n",
    "        ∂qθ ∂qv\n",
    "    ]\n",
    "    #- Residual expression\n",
    "    @variable(model,resid[1:2*n_bus])\n",
    "    @constraint(model,resid .== J*x .- f_x_obs)\n",
    "\n",
    "    #----- Constraints\n",
    "    #Jacobian physics constraints\n",
    "    for i =1:n_bus\n",
    "        @constraint(model,\n",
    "            ∂pθ[i,i] == vm_obs[i]*∂qv[i,i] - 2*q_nom[i]\n",
    "        )\n",
    "        @constraint(model,\n",
    "            ∂qθ[i,i] == -vm_obs[i]*∂pv[i,i] + 2*p_nom[i]\n",
    "        )\n",
    "        @constraint(model,\n",
    "            [k=1:n_bus; k!= i],\n",
    "            ∂pθ[i,k] == vm_obs[k]*∂qv[i,k]\n",
    "        )\n",
    "        @constraint(model,\n",
    "            [k=1:n_bus; k!=i],\n",
    "            ∂qθ[i,k] == -vm_obs[k]*∂pv[i,k]\n",
    "    )\n",
    "    end\n",
    "\n",
    "    #----- Objective - min sum of square errors\n",
    "    @objective(model,Min,sum(resid.^2))\n",
    "\n",
    "    optimize!(model)\n",
    "\n",
    "    #construct phasor voltages\n",
    "    θ_hat = value.(θ)\n",
    "    v_rect_hat = vm_obs .* (cos.(θ_hat) + sin.(θ_hat) .* im)\n",
    "    v_rect_true = vm_obs .* (cos.(va_nom) + sin.(va_nom) .* im)\n",
    "\n",
    "    #------- Construct current phasors\n",
    "    L_rect_true = conj.((p_nom .+ q_nom.*im)./ v_rect_true)\n",
    "    L_rect_hat = conj.((p_nom .+ q_nom.*im)./v_rect_hat)\n",
    "    \n",
    "    #param covariance\n",
    "    ∂pθ = value.(∂pθ)\n",
    "    ∂qθ = value.(∂qθ)\n",
    "    \n",
    "    Je = Matrix([\n",
    "        ∂pθ ∂pv;\n",
    "        ∂qθ ∂qv\n",
    "    ])\n",
    "    #Construct the standard error:\n",
    "    #se = sqrt(sum((va_nom.- θ_hat).^2)/(length(θ_hat)-2))\n",
    "    mse = (1/length(resid))*sum(value.(resid).^2)#(1/length(va_nom))*sum((va_nom.- θ_hat).^2)\n",
    "    se = sqrt.(diag(inv(Je'*Je))*mse)[1:n_bus]#sqrt.(diag(inv(Jph'*Jph )) * mse)#sqrt.(diag(inv(∂pθ' * ∂pθ + ∂qθ' * ∂qθ))*mse)\n",
    "\n",
    "    #construct covariance of the error\n",
    "    err_cov = diag((va_nom .- θ_hat)*(va_nom .- θ_hat)')\n",
    "    \n",
    "\n",
    "    #th_std = sqrt.(diag((inv(Je'*Je)*Je')*(va_nom*va_nom')*(Je*inv(Je'*Je))))\n",
    "    \n",
    "    \n",
    "\n",
    "    #Return the results dict\n",
    "    return Dict(\n",
    "        \"th_hat\"=>θ_hat,\n",
    "        \"th_true\"=>va_nom,\n",
    "        \"v_rect_hat\"=>v_rect_hat,\n",
    "        \"dpth\"=>value.(∂pθ),\n",
    "        \"dqth\"=>value.(∂qθ),\n",
    "        \"th_sq_errs\" => (abs.(va_nom .- θ_hat)).^2,\n",
    "        \"th_rel_err\"=> norm(va_nom- θ_hat)/norm(va_nom)*100,\n",
    "        \"std_err\"=>se ,\n",
    "        \"err_cov\"=>err_cov,\n",
    "        # \"th_std=\"=>th_std,\n",
    "        \"dpth_rel_err\"=>norm(value.(∂pθ)- ∂pθ_true)/norm(∂pθ_true)*100,\n",
    "        \"dqth_rel_err\"=>norm(value.(∂qθ)- ∂qθ_true)/norm(∂qθ_true)*100,\n",
    "        \"L_rel_err\"=> norm(L_rect_true .- L_rect_hat)./(norm(L_rect_true))*100\n",
    "        #\"v_rect_rel_err\"=> norm(v_rect_nom-v_rect_hat)/norm(v_rect_nom)*100\n",
    "    )\n",
    "end"
   ]
  },
  {
   "cell_type": "code",
   "execution_count": 122,
   "id": "f0632d90",
   "metadata": {},
   "outputs": [
    {
     "data": {
      "text/plain": [
       "(ComplexF64[1.0361349515573042 - 0.15571234717049007im, 1.036028266253565 - 0.15682200235819138im, 1.002110172629621 - 0.13973752139932694im, 1.0002949668544117 - 0.18913662515010876im, 1.0172913326346031 - 0.19573641596839678im, 1.005852572522352 - 0.23436874092380902im, 1.0352997282164838 - 0.0667605815947924im, 0.9961601816266125 - 0.16157459347719103im, 1.0156214997594983 - 0.15027752751428128im, 1.0336398650882417 - 0.18524981254513792im  …  1.0453280922805404 + 0.022950291700238334im, 1.0433664952593207 + 0.09515186610628719im, 1.0436414307512143 + 0.11538008502145593im, 1.039264851859264 + 0.01690846026507476im, 1.042704594266573 + 0.045993045906061965im, 1.0421767967381523 + 0.12793562576782042im, 1.022984465126047 + 0.23664907375854194im, 1.0472869120339907 + 0.07543290980936841im, 0.9975672803268065 - 0.09380365639268246im, 1.0457680898026311 + 0.0852288804623008im], ComplexF64[0.6000000000000001 - 0.11793183944531578im, 0.7100000000000002 - 0.13299290132831343im, -1.8 - 0.37im, -0.74 - 0.15im, -0.71 - 0.14im, -1.36 - 0.28im, 2.3 + 0.09273454953057458im, -1.71 - 0.35im, -1.75 - 0.36im, -1.95 - 0.4im  …  0.55 + 0.6896777619364802im, 0.0 + 0.0im, 0.21999999999999975 - 0.06430564164263486im, -1.81 - 0.37im, -1.28 - 0.26im, 3.55 - 0.06960301442728375im, 3.0999999999999996 - 0.4018451908055074im, 7.1 + 0.6323684347284269im, 0.0 + 0.0im, 0.0 + 0.0im])"
      ]
     },
     "execution_count": 122,
     "metadata": {},
     "output_type": "execute_result"
    }
   ],
   "source": [
    "net = PM.make_basic_network(PM.parse_file(\"../data/case_RTS_GMLC.m\"))\n",
    "PM.compute_ac_pf!(net)\n",
    "x_pm,s_pm = PM.calc_basic_bus_voltage(net),PM.calc_basic_bus_injection(net)"
   ]
  },
  {
   "cell_type": "code",
   "execution_count": 123,
   "id": "1298e943",
   "metadata": {},
   "outputs": [
    {
     "name": "stdout",
     "output_type": "stream",
     "text": [
      "test\n",
      "This is Ipopt version 3.14.4, running with linear solver MUMPS 5.4.1.\n",
      "\n",
      "Number of nonzeros in equality constraint Jacobian...:     9680\n",
      "Number of nonzeros in inequality constraint Jacobian.:        0\n",
      "Number of nonzeros in Lagrangian Hessian.............:     3280\n",
      "\n",
      "Total number of variables............................:     3320\n",
      "                     variables with only lower bounds:        0\n",
      "                variables with lower and upper bounds:        0\n",
      "                     variables with only upper bounds:        0\n",
      "Total number of equality constraints.................:     3280\n",
      "Total number of inequality constraints...............:        0\n",
      "        inequality constraints with only lower bounds:        0\n",
      "   inequality constraints with lower and upper bounds:        0\n",
      "        inequality constraints with only upper bounds:        0\n",
      "\n",
      "iter    objective    inf_pr   inf_du lg(mu)  ||d||  lg(rg) alpha_du alpha_pr  ls\n",
      "   0  0.0000000e+00 1.51e+02 0.00e+00  -1.0 0.00e+00    -  0.00e+00 0.00e+00   0\n",
      "   1  2.9220560e+03 0.00e+00 6.72e+03  -1.0 1.51e+02  -4.0 1.00e+00 1.00e+00h  1\n",
      "   2  4.0256115e-28 3.55e-15 1.45e+01  -1.0 2.57e+01    -  1.00e+00 1.00e+00f  1\n",
      "   3  3.7140376e-28 3.55e-15 7.27e+00  -1.0 3.45e-15    -  1.00e+00 5.00e-01h  2\n",
      "   4  3.6144828e-28 3.55e-15 4.35e-16  -1.0 1.73e-15    -  1.00e+00 1.00e+00   0\n",
      "\n",
      "Number of Iterations....: 4\n",
      "\n",
      "                                   (scaled)                 (unscaled)\n",
      "Objective...............:   3.6144828001307220e-28    3.6144828001307220e-28\n",
      "Dual infeasibility......:   4.3517883654062880e-16    4.3517883654062880e-16\n",
      "Constraint violation....:   3.5527136788005009e-15    3.5527136788005009e-15\n",
      "Variable bound violation:   0.0000000000000000e+00    0.0000000000000000e+00\n",
      "Complementarity.........:   0.0000000000000000e+00    0.0000000000000000e+00\n",
      "Overall NLP error.......:   3.5527136788005009e-15    3.5527136788005009e-15\n",
      "\n",
      "\n",
      "Number of objective function evaluations             = 9\n",
      "Number of objective gradient evaluations             = 5\n",
      "Number of equality constraint evaluations            = 9\n",
      "Number of inequality constraint evaluations          = 0\n",
      "Number of equality constraint Jacobian evaluations   = 5\n",
      "Number of inequality constraint Jacobian evaluations = 0\n",
      "Number of Lagrangian Hessian evaluations             = 4\n",
      "Total seconds in IPOPT                               = 0.176\n",
      "\n",
      "EXIT: Optimal Solution Found.\n",
      "test\n",
      "This is Ipopt version 3.14.4, running with linear solver MUMPS 5.4.1.\n",
      "\n",
      "Number of nonzeros in equality constraint Jacobian...:     9680\n",
      "Number of nonzeros in inequality constraint Jacobian.:        0\n",
      "Number of nonzeros in Lagrangian Hessian.............:     3280\n",
      "\n",
      "Total number of variables............................:     3320\n",
      "                     variables with only lower bounds:        0\n",
      "                variables with lower and upper bounds:        0\n",
      "                     variables with only upper bounds:        0\n",
      "Total number of equality constraints.................:     3280\n",
      "Total number of inequality constraints...............:        0\n",
      "        inequality constraints with only lower bounds:        0\n",
      "   inequality constraints with lower and upper bounds:        0\n",
      "        inequality constraints with only upper bounds:        0\n",
      "\n",
      "iter    objective    inf_pr   inf_du lg(mu)  ||d||  lg(rg) alpha_du alpha_pr  ls\n",
      "   0  0.0000000e+00 1.51e+02 0.00e+00  -1.0 0.00e+00    -  0.00e+00 0.00e+00   0\n",
      "   1  2.0409456e+03 0.00e+00 6.21e+03  -1.0 1.51e+02  -4.0 1.00e+00 1.00e+00h  1\n",
      "   2  3.6302797e-28 3.55e-15 2.10e+01  -1.0 2.14e+01    -  1.00e+00 1.00e+00f  1\n",
      "   3  3.1982693e-28 3.55e-15 8.80e-16  -1.0 3.38e-15    -  1.00e+00 1.00e+00h  1\n",
      "\n",
      "Number of Iterations....: 3\n",
      "\n",
      "                                   (scaled)                 (unscaled)\n",
      "Objective...............:   3.1982693341923853e-28    3.1982693341923853e-28\n",
      "Dual infeasibility......:   8.7974596589724042e-16    8.7974596589724042e-16\n",
      "Constraint violation....:   3.5527136788005009e-15    3.5527136788005009e-15\n",
      "Variable bound violation:   0.0000000000000000e+00    0.0000000000000000e+00\n",
      "Complementarity.........:   0.0000000000000000e+00    0.0000000000000000e+00\n",
      "Overall NLP error.......:   3.5527136788005009e-15    3.5527136788005009e-15\n",
      "\n",
      "\n",
      "Number of objective function evaluations             = 4\n",
      "Number of objective gradient evaluations             = 4\n",
      "Number of equality constraint evaluations            = 4\n",
      "Number of inequality constraint evaluations          = 0\n",
      "Number of equality constraint Jacobian evaluations   = 4\n",
      "Number of inequality constraint Jacobian evaluations = 0\n",
      "Number of Lagrangian Hessian evaluations             = 3\n",
      "Total seconds in IPOPT                               = 0.167\n",
      "\n",
      "EXIT: Optimal Solution Found.\n",
      "test\n",
      "This is Ipopt version 3.14.4, running with linear solver MUMPS 5.4.1.\n",
      "\n",
      "Number of nonzeros in equality constraint Jacobian...:     9680\n",
      "Number of nonzeros in inequality constraint Jacobian.:        0\n",
      "Number of nonzeros in Lagrangian Hessian.............:     3280\n",
      "\n",
      "Total number of variables............................:     3320\n",
      "                     variables with only lower bounds:        0\n",
      "                variables with lower and upper bounds:        0\n",
      "                     variables with only upper bounds:        0\n",
      "Total number of equality constraints.................:     3280\n",
      "Total number of inequality constraints...............:        0\n",
      "        inequality constraints with only lower bounds:        0\n",
      "   inequality constraints with lower and upper bounds:        0\n",
      "        inequality constraints with only upper bounds:        0\n",
      "\n",
      "iter    objective    inf_pr   inf_du lg(mu)  ||d||  lg(rg) alpha_du alpha_pr  ls\n",
      "   0  0.0000000e+00 1.51e+02 0.00e+00  -1.0 0.00e+00    -  0.00e+00 0.00e+00   0\n",
      "   1  1.8591008e+03 0.00e+00 5.94e+03  -1.0 1.51e+02  -4.0 1.00e+00 1.00e+00h  1\n",
      "   2  6.0589448e-28 4.00e-15 2.15e+01  -1.0 2.06e+01    -  1.00e+00 1.00e+00f  1\n",
      "   3  5.5396779e-28 3.55e-15 1.67e-15  -1.0 3.92e-15    -  1.00e+00 1.00e+00h  1\n",
      "\n",
      "Number of Iterations....: 3\n",
      "\n",
      "                                   (scaled)                 (unscaled)\n",
      "Objective...............:   5.5396778858140487e-28    5.5396778858140487e-28\n",
      "Dual infeasibility......:   1.6708132747104997e-15    1.6708132747104997e-15\n",
      "Constraint violation....:   3.5527136788005009e-15    3.5527136788005009e-15\n",
      "Variable bound violation:   0.0000000000000000e+00    0.0000000000000000e+00\n",
      "Complementarity.........:   0.0000000000000000e+00    0.0000000000000000e+00\n",
      "Overall NLP error.......:   3.5527136788005009e-15    3.5527136788005009e-15\n",
      "\n",
      "\n",
      "Number of objective function evaluations             = 4\n",
      "Number of objective gradient evaluations             = 4\n",
      "Number of equality constraint evaluations            = 4\n",
      "Number of inequality constraint evaluations          = 0\n",
      "Number of equality constraint Jacobian evaluations   = 4\n",
      "Number of inequality constraint Jacobian evaluations = 0\n",
      "Number of Lagrangian Hessian evaluations             = 3\n",
      "Total seconds in IPOPT                               = 0.162\n",
      "\n",
      "EXIT: Optimal Solution Found.\n",
      "test\n",
      "This is Ipopt version 3.14.4, running with linear solver MUMPS 5.4.1.\n",
      "\n",
      "Number of nonzeros in equality constraint Jacobian...:     9680\n",
      "Number of nonzeros in inequality constraint Jacobian.:        0\n",
      "Number of nonzeros in Lagrangian Hessian.............:     3280\n",
      "\n",
      "Total number of variables............................:     3320\n",
      "                     variables with only lower bounds:        0\n",
      "                variables with lower and upper bounds:        0\n",
      "                     variables with only upper bounds:        0\n",
      "Total number of equality constraints.................:     3280\n",
      "Total number of inequality constraints...............:        0\n",
      "        inequality constraints with only lower bounds:        0\n",
      "   inequality constraints with lower and upper bounds:        0\n",
      "        inequality constraints with only upper bounds:        0\n",
      "\n",
      "iter    objective    inf_pr   inf_du lg(mu)  ||d||  lg(rg) alpha_du alpha_pr  ls\n",
      "   0  0.0000000e+00 1.51e+02 0.00e+00  -1.0 0.00e+00    -  0.00e+00 0.00e+00   0\n",
      "   1  1.8574826e+03 0.00e+00 5.94e+03  -1.0 1.51e+02  -4.0 1.00e+00 1.00e+00h  1\n",
      "   2  8.1057769e-28 3.55e-15 2.15e+01  -1.0 2.06e+01    -  1.00e+00 1.00e+00f  1\n",
      "   3  7.7717511e-28 1.78e-15 1.47e-15  -1.0 2.18e-15    -  1.00e+00 1.00e+00   0\n",
      "\n",
      "Number of Iterations....: 3\n",
      "\n",
      "                                   (scaled)                 (unscaled)\n",
      "Objective...............:   7.7717510500324685e-28    7.7717510500324685e-28\n",
      "Dual infeasibility......:   1.4656747034347796e-15    1.4656747034347796e-15\n",
      "Constraint violation....:   1.7763568394002505e-15    1.7763568394002505e-15\n",
      "Variable bound violation:   0.0000000000000000e+00    0.0000000000000000e+00\n",
      "Complementarity.........:   0.0000000000000000e+00    0.0000000000000000e+00\n",
      "Overall NLP error.......:   1.7763568394002505e-15    1.7763568394002505e-15\n",
      "\n",
      "\n",
      "Number of objective function evaluations             = 4\n",
      "Number of objective gradient evaluations             = 4\n",
      "Number of equality constraint evaluations            = 4\n",
      "Number of inequality constraint evaluations          = 0\n",
      "Number of equality constraint Jacobian evaluations   = 4\n",
      "Number of inequality constraint Jacobian evaluations = 0\n",
      "Number of Lagrangian Hessian evaluations             = 3\n",
      "Total seconds in IPOPT                               = 0.160\n",
      "\n",
      "EXIT: Optimal Solution Found.\n",
      "test\n"
     ]
    },
    {
     "name": "stdout",
     "output_type": "stream",
     "text": [
      "This is Ipopt version 3.14.4, running with linear solver MUMPS 5.4.1.\n",
      "\n",
      "Number of nonzeros in equality constraint Jacobian...:     9680\n",
      "Number of nonzeros in inequality constraint Jacobian.:        0\n",
      "Number of nonzeros in Lagrangian Hessian.............:     3280\n",
      "\n",
      "Total number of variables............................:     3320\n",
      "                     variables with only lower bounds:        0\n",
      "                variables with lower and upper bounds:        0\n",
      "                     variables with only upper bounds:        0\n",
      "Total number of equality constraints.................:     3280\n",
      "Total number of inequality constraints...............:        0\n",
      "        inequality constraints with only lower bounds:        0\n",
      "   inequality constraints with lower and upper bounds:        0\n",
      "        inequality constraints with only upper bounds:        0\n",
      "\n",
      "iter    objective    inf_pr   inf_du lg(mu)  ||d||  lg(rg) alpha_du alpha_pr  ls\n",
      "   0  0.0000000e+00 1.51e+02 0.00e+00  -1.0 0.00e+00    -  0.00e+00 0.00e+00   0\n",
      "   1  1.8574755e+03 0.00e+00 5.94e+03  -1.0 1.51e+02  -4.0 1.00e+00 1.00e+00h  1\n",
      "   2  5.5215949e-28 4.44e-15 2.15e+01  -1.0 2.06e+01    -  1.00e+00 1.00e+00f  1\n",
      "   3  5.1876076e-28 3.55e-15 1.17e-15  -1.0 1.82e-15    -  1.00e+00 1.00e+00   0\n",
      "\n",
      "Number of Iterations....: 3\n",
      "\n",
      "                                   (scaled)                 (unscaled)\n",
      "Objective...............:   5.1876075540109750e-28    5.1876075540109750e-28\n",
      "Dual infeasibility......:   1.1690709857627497e-15    1.1690709857627497e-15\n",
      "Constraint violation....:   3.5527136788005009e-15    3.5527136788005009e-15\n",
      "Variable bound violation:   0.0000000000000000e+00    0.0000000000000000e+00\n",
      "Complementarity.........:   0.0000000000000000e+00    0.0000000000000000e+00\n",
      "Overall NLP error.......:   3.5527136788005009e-15    3.5527136788005009e-15\n",
      "\n",
      "\n",
      "Number of objective function evaluations             = 4\n",
      "Number of objective gradient evaluations             = 4\n",
      "Number of equality constraint evaluations            = 4\n",
      "Number of inequality constraint evaluations          = 0\n",
      "Number of equality constraint Jacobian evaluations   = 4\n",
      "Number of inequality constraint Jacobian evaluations = 0\n",
      "Number of Lagrangian Hessian evaluations             = 3\n",
      "Total seconds in IPOPT                               = 0.161\n",
      "\n",
      "EXIT: Optimal Solution Found.\n",
      "test\n",
      "This is Ipopt version 3.14.4, running with linear solver MUMPS 5.4.1.\n",
      "\n",
      "Number of nonzeros in equality constraint Jacobian...:     9680\n",
      "Number of nonzeros in inequality constraint Jacobian.:        0\n",
      "Number of nonzeros in Lagrangian Hessian.............:     3280\n",
      "\n",
      "Total number of variables............................:     3320\n",
      "                     variables with only lower bounds:        0\n",
      "                variables with lower and upper bounds:        0\n",
      "                     variables with only upper bounds:        0\n",
      "Total number of equality constraints.................:     3280\n",
      "Total number of inequality constraints...............:        0\n",
      "        inequality constraints with only lower bounds:        0\n",
      "   inequality constraints with lower and upper bounds:        0\n",
      "        inequality constraints with only upper bounds:        0\n",
      "\n",
      "iter    objective    inf_pr   inf_du lg(mu)  ||d||  lg(rg) alpha_du alpha_pr  ls\n",
      "   0  0.0000000e+00 1.51e+02 0.00e+00  -1.0 0.00e+00    -  0.00e+00 0.00e+00   0\n",
      "   1  1.8574753e+03 0.00e+00 5.94e+03  -1.0 1.51e+02  -4.0 1.00e+00 1.00e+00h  1\n",
      "   2  5.0898245e-28 3.55e-15 2.15e+01  -1.0 2.06e+01    -  1.00e+00 1.00e+00f  1\n",
      "   3  4.5149721e-28 3.55e-15 1.11e-15  -1.0 2.68e-15    -  1.00e+00 1.00e+00h  1\n",
      "\n",
      "Number of Iterations....: 3\n",
      "\n",
      "                                   (scaled)                 (unscaled)\n",
      "Objective...............:   4.5149721442281604e-28    4.5149721442281604e-28\n",
      "Dual infeasibility......:   1.1130638991190385e-15    1.1130638991190385e-15\n",
      "Constraint violation....:   3.5527136788005009e-15    3.5527136788005009e-15\n",
      "Variable bound violation:   0.0000000000000000e+00    0.0000000000000000e+00\n",
      "Complementarity.........:   0.0000000000000000e+00    0.0000000000000000e+00\n",
      "Overall NLP error.......:   3.5527136788005009e-15    3.5527136788005009e-15\n",
      "\n",
      "\n",
      "Number of objective function evaluations             = 4\n",
      "Number of objective gradient evaluations             = 4\n",
      "Number of equality constraint evaluations            = 4\n",
      "Number of inequality constraint evaluations          = 0\n",
      "Number of equality constraint Jacobian evaluations   = 4\n",
      "Number of inequality constraint Jacobian evaluations = 0\n",
      "Number of Lagrangian Hessian evaluations             = 3\n",
      "Total seconds in IPOPT                               = 0.197\n",
      "\n",
      "EXIT: Optimal Solution Found.\n"
     ]
    }
   ],
   "source": [
    "net = PM.make_basic_network(PM.parse_file(\"../data/case_RTS_GMLC.m\"))\n",
    "nr_data = PPR.calc_nr_pf!(net)\n",
    "sel_bus_idx = PPR.calc_bus_idx_of_type(net,[1])\n",
    "n_bus = length(sel_bus_idx)\n",
    "f = nr_data.f\n",
    "L = nr_data.L_inj\n",
    "S = nr_data.S_inj\n",
    "x = nr_data.x\n",
    "jacs = nr_data.jacs\n",
    "delta_vm = nr_data.delta_vm\n",
    "delta_va = nr_data.delta_va\n",
    "results= []\n",
    "for (k,(fk,Lk,xk,Sk,jack)) in enumerate(zip(f,L,x,S,jacs))\n",
    "    #Mismatch changes\n",
    "    Δpk,Δqk = real.(fk)[sel_bus_idx],imag.(fk)[sel_bus_idx]\n",
    "    \n",
    "    #State\n",
    "    vk,θk = abs.(xk)[sel_bus_idx],angle.(xk)[sel_bus_idx]\n",
    "    \n",
    "    \n",
    "    #Nominal injections and jacobians\n",
    "    pk,qk = real.(Sk)[sel_bus_idx],imag.(Sk)[sel_bus_idx]\n",
    "    ∂pvk,∂qvk = jack.pv[sel_bus_idx,sel_bus_idx],jack.qv[sel_bus_idx,sel_bus_idx]\n",
    "    ∂pθk,∂qθk = jack.pth[sel_bus_idx,sel_bus_idx],jack.qth[sel_bus_idx,sel_bus_idx]\n",
    "    \n",
    "    #Observed mismatches\n",
    "    f_x_obs = [∂pθk ∂pvk; ∂qθk ∂qvk]*[θk;vk]\n",
    "    p_obs,q_obs = f_x_obs[1:n_bus],f_x_obs[n_bus+1:end]\n",
    "    \n",
    "    #Observed current injection\n",
    "    #Lk = conj.((p_obs .+ q_obs.*im)./(xk[sel_bus_idx]))\n",
    "    #Lk = Lk[sel_bus_idx]\n",
    "    push!(results,est_bus_voltage_phase(θk,∂pvk,∂qvk,vk,[p_obs;q_obs],qk,pk,∂pθk,∂qθk)) \n",
    "end"
   ]
  },
  {
   "cell_type": "code",
   "execution_count": 220,
   "id": "1294a9b6",
   "metadata": {},
   "outputs": [
    {
     "data": {
      "text/plain": [
       "6-element Vector{Float64}:\n",
       " 4.9218619996479295e-14\n",
       " 5.3237881101947945e-14\n",
       " 7.444150505081164e-14\n",
       " 4.377330238505733e-14\n",
       " 4.680844902631621e-14\n",
       " 3.530016654042771e-14"
      ]
     },
     "execution_count": 220,
     "metadata": {},
     "output_type": "execute_result"
    }
   ],
   "source": [
    "th_rel_err"
   ]
  },
  {
   "cell_type": "code",
   "execution_count": 142,
   "id": "0bf51493",
   "metadata": {},
   "outputs": [
    {
     "data": {
      "text/plain": [
       "make_theta_series"
      ]
     },
     "execution_count": 142,
     "metadata": {},
     "output_type": "execute_result"
    }
   ],
   "source": [
    "\"\"\"\n",
    "Make matrices of the angle states at every iteration of the Newton-Raphson algorithm\n",
    "\"\"\"\n",
    "function make_theta_series(results)\n",
    "    th_true = [d[\"th_true\"] for d in results] #true theta\n",
    "    th_hat = [d[\"th_hat\"] for d in results]\n",
    "    M_true = zeros(length(th_hat),length(th_hat[1]))\n",
    "    M_hat = zeros(length(th_hat),length(th_hat[1]))\n",
    "    for (i,(th_true_i,th_hat_i)) in enumerate(zip(th_true,th_hat))\n",
    "        M_true[i,:] = th_true_i\n",
    "        M_hat[i,:] = th_hat_i\n",
    "    end\n",
    "    return M_true,M_hat\n",
    "end"
   ]
  },
  {
   "cell_type": "code",
   "execution_count": 139,
   "id": "c8d7f3c7",
   "metadata": {},
   "outputs": [
    {
     "data": {
      "text/plain": [
       "6-element Vector{Float64}:\n",
       " 5.096297279073461e-14\n",
       " 3.381247732931737e-14\n",
       " 5.118286930262779e-14\n",
       " 3.00131098241511e-14\n",
       " 6.779612236485346e-14\n",
       " 5.582721366379534e-14"
      ]
     },
     "execution_count": 139,
     "metadata": {},
     "output_type": "execute_result"
    }
   ],
   "source": [
    "M_true,M_hat = make_theta_series(results)\n",
    "th_rel_err = [d[\"th_rel_err\"] for d in results] #voltage phase\n",
    "L_rel_err = [d[\"L_rel_err\"] for d in results] #current\n",
    "dpth_rel_err = [d[\"dpth_rel_err\"] for d in results] #sensitivities\n",
    "dqth_rel_err = [d[\"dqth_rel_err\"] for d in results] #sensitivities"
   ]
  },
  {
   "cell_type": "markdown",
   "id": "94e237ec",
   "metadata": {},
   "source": [
    "### Plot the thetas at every iteration"
   ]
  },
  {
   "cell_type": "code",
   "execution_count": 304,
   "id": "de02c214",
   "metadata": {},
   "outputs": [
    {
     "data": {
      "text/plain": [
       "Legend()"
      ]
     },
     "execution_count": 304,
     "metadata": {},
     "output_type": "execute_result"
    }
   ],
   "source": [
    "set_theme!(theme_ggplot2())\n",
    "size_in_inches = (3.5,3.5/1.61828)\n",
    "size_in_pixels = size_in_inches .* 400\n",
    "f = Figure() #Figure(resolution=size_in_pixels)\n",
    "ax = Axis(\n",
    "    f[1,1],\n",
    "    title=\"Iterative Newton-Raphson Phase Retrieval Performance (Case RTS_GMLC)\",\n",
    "    xlabel=L\"Iteration $k=1,\\dots$\",\n",
    "    ylabel=L\"Relative Error $\\frac{\\left|| x_k- \\hat{x}_k \\right||}{\\left|| x_k\\right||} \\times 100 $ (%)\"#L\"$\\frac{\\lVert \\theta_k - \\hat{\\theta}_k \\rVert_2}{\\lVert\\theta_k\\rVert_2}$\"\n",
    ")\n",
    "x = [i for i in 1:size(M_hat)[1]]\n",
    "scatterlines!(ax,x,th_rel_err,label=L\"$\\theta$\")\n",
    "scatterlines!(ax,x,dpth_rel_err,label=L\"$\\partial p / \\partial \\theta$\")\n",
    "scatterlines!(ax,x,dqth_rel_err,label=L\"$\\partial q / \\partial \\theta$\")\n",
    "scatterlines!(ax,x,L_rel_err,label=L\"$\\ell$\")\n",
    "ylims!(ax,0,9e-14)\n",
    "axislegend(\"Quantity\",orientation=:horizontal,position=:rt,patchcolor=:transparent)"
   ]
  },
  {
   "cell_type": "code",
   "execution_count": 305,
   "id": "b4bf39a2",
   "metadata": {},
   "outputs": [
    {
     "data": {
      "image/png": "[encoded data removed]"
     },
     "execution_count": 305,
     "metadata": {},
     "output_type": "execute_result"
    }
   ],
   "source": [
    "f"
   ]
  },
  {
   "cell_type": "code",
   "execution_count": 306,
   "id": "dbc3bf08",
   "metadata": {},
   "outputs": [
    {
     "data": {
      "text/plain": [
       "CairoMakie.Screen{PDF}\n"
      ]
     },
     "execution_count": 306,
     "metadata": {},
     "output_type": "execute_result"
    }
   ],
   "source": [
    "save(\"../figures/spring_23/nr_iterations/rts_gmlc.pdf\",f)"
   ]
  },
  {
   "cell_type": "code",
   "execution_count": 302,
   "id": "d3900395",
   "metadata": {},
   "outputs": [
    {
     "data": {
      "text/plain": [
       "\"/home/sam/Research/PowerPhaseRetrieval/tests\""
      ]
     },
     "execution_count": 302,
     "metadata": {},
     "output_type": "execute_result"
    }
   ],
   "source": [
    "pwd()"
   ]
  },
  {
   "cell_type": "code",
   "execution_count": null,
   "id": "191652a8",
   "metadata": {},
   "outputs": [],
   "source": []
  },
  {
   "cell_type": "code",
   "execution_count": null,
   "id": "1836090a",
   "metadata": {},
   "outputs": [],
   "source": []
  }
 ],
 "metadata": {
  "kernelspec": {
   "display_name": "Julia 1.7.3",
   "language": "julia",
   "name": "julia-1.7"
  },
  "language_info": {
   "file_extension": ".jl",
   "mimetype": "application/julia",
   "name": "julia",
   "version": "1.8.0"
  }
 },
 "nbformat": 4,
 "nbformat_minor": 5
}
