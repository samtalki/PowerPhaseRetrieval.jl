{
 "cells": [
  {
   "cell_type": "code",
   "execution_count": 25,
   "id": "e715ba16-f9f5-4aff-a030-ff31cd5ebc31",
   "metadata": {},
   "outputs": [],
   "source": [
    "import numpy as np\n",
    "import numpy.linalg as LA\n",
    "import cvxpy as cp\n",
    "np.random.seed(2023)"
   ]
  },
  {
   "cell_type": "code",
   "execution_count": 29,
   "id": "d03c7224",
   "metadata": {},
   "outputs": [],
   "source": [
    "\n",
    "n = 50 # signal dimension\n",
    "m = 100 # measurement dimension\n",
    "alpha = 0.2 # noise parameter\n",
    "noise = True\n",
    "A = np.random.rand(m,n) + np.random.rand(m,n)*1j\n",
    "x0 = np.random.rand(n) + np.random.rand(n)*1j\n",
    "y = A@x0\n",
    "b = np.abs(y) + np.random.normal(loc=0,scale=alpha)\n",
    "\n",
    "#Demonstrate that phase retrieval is needed.\n",
    "assert np.all(np.isclose(x0,np.linalg.pinv(A)@y))\n",
    "assert not(np.all(np.isclose(x0,LA.pinv(A)@b)))"
   ]
  },
  {
   "cell_type": "code",
   "execution_count": null,
   "id": "6904e236",
   "metadata": {},
   "outputs": [],
   "source": [
    "M = np.diag(b) @ (np.eye(n)-A @ np.linalg.pinv(A)) @ np.diag(b)"
   ]
  },
  {
   "cell_type": "code",
   "execution_count": 30,
   "id": "6daaddfd-4cf3-4fe2-97cb-132d2def6aa2",
   "metadata": {},
   "outputs": [],
   "source": [
    "def reconstruct(b,p):\n",
    "    real = b * np.cos(p)\n",
    "    imag = b * np.sin(p)\n",
    "    return (real + 1j* imag)\n",
    "\n",
    "def norm_err(xhat):\n",
    "    return LA.norm(b - np.abs(A @ xhat))/ LA.norm(b)"
   ]
  },
  {
   "cell_type": "code",
   "execution_count": 42,
   "id": "69da1a6f-351e-4879-a2b8-4db5d26bd9f1",
   "metadata": {},
   "outputs": [],
   "source": [
    "## PhaseCut ##\n",
    "def phasecut(b):\n",
    "    X = cp.Variable((m,m),hermitian = True)\n",
    "    M = np.diag(b)@ (np.eye(m) - A @ LA.pinv(A)) @ np.diag(b)\n",
    "    obj = cp.norm(cp.trace(X@M))\n",
    "    constr = [X >> 0]\n",
    "    constr += [cp.diag(X) == np.ones(m,)]\n",
    "    prob = cp.Problem(cp.Minimize(obj), constr)\n",
    "    prob.solve(solver=cp.SCS)\n",
    "    phase = LA.eig(X.value)[1][:,0]\n",
    "    x_hat = reconstruct(b,phase)\n",
    "    err = norm_err(LA.pinv(A)@x_hat)\n",
    "    print(\"PhaseCut error: %0.4f\" % err)\n",
    "    return x_hat,phase, err"
   ]
  },
  {
   "cell_type": "code",
   "execution_count": 49,
   "id": "5115a338-71be-4f8d-8f61-0d1b2704de65",
   "metadata": {},
   "outputs": [
    {
     "name": "stdout",
     "output_type": "stream",
     "text": [
      "PhaseCut error: 0.0627\n"
     ]
    }
   ],
   "source": [
    "xhat,phase,err = phasecut(b)"
   ]
  },
  {
   "cell_type": "code",
   "execution_count": 54,
   "id": "146589c3",
   "metadata": {},
   "outputs": [
    {
     "data": {
      "text/plain": [
       "array([2.00192100e-01+0.28371403j, 8.23455345e-01+0.60192756j,\n",
       "       6.02365719e-01+0.16121845j, 3.13185163e-01+0.68179705j,\n",
       "       9.95182171e-01+0.01711977j, 1.50947199e-01+0.1220498j ,\n",
       "       3.39746531e-01+0.6859952j , 4.32910765e-01+0.57293963j,\n",
       "       8.40342493e-01+0.50610145j, 9.04766161e-01+0.92398965j,\n",
       "       4.54097255e-01+0.85896076j, 3.01505790e-01+0.77392789j,\n",
       "       9.33181112e-01+0.48657699j, 4.65572669e-01+0.72696878j,\n",
       "       6.74180607e-01+0.23368212j, 8.97752547e-01+0.28726454j,\n",
       "       9.74504927e-01+0.3346534j , 2.59534482e-01+0.39625723j,\n",
       "       1.68584269e-01+0.94338187j, 3.81125546e-01+0.90444729j,\n",
       "       2.53563197e-02+0.04175519j, 4.87782099e-01+0.73289626j,\n",
       "       1.42711102e-01+0.5611844j , 7.46940316e-01+0.26188107j,\n",
       "       7.79988457e-01+0.70588441j, 5.13514885e-01+0.00825609j,\n",
       "       4.85544759e-02+0.91896878j, 4.54595348e-01+0.11595447j,\n",
       "       4.40627538e-02+0.53214902j, 4.83949062e-01+0.92658491j,\n",
       "       6.12888988e-01+0.30176561j, 3.68651722e-01+0.03540252j,\n",
       "       1.54600157e-01+0.74236415j, 5.98379036e-01+0.54274247j,\n",
       "       7.00333044e-01+0.01955446j, 6.01573564e-01+0.28678347j,\n",
       "       2.01486872e-04+0.47158532j, 3.79657248e-03+0.59059744j,\n",
       "       7.18332460e-01+0.41283529j, 4.38073332e-01+0.80357923j,\n",
       "       4.04978732e-01+0.98255261j, 6.34376246e-01+0.91953889j,\n",
       "       8.86406360e-01+0.55167399j, 2.63350916e-01+0.63942434j,\n",
       "       9.87522920e-01+0.27009759j, 6.65226503e-01+0.43525576j,\n",
       "       7.13056923e-01+0.40231515j, 2.93379012e-01+0.02482595j,\n",
       "       1.39102613e-02+0.76400737j, 5.85087456e-01+0.94604603j])"
      ]
     },
     "execution_count": 54,
     "metadata": {},
     "output_type": "execute_result"
    }
   ],
   "source": []
  },
  {
   "cell_type": "code",
   "execution_count": 51,
   "id": "7cd2d453",
   "metadata": {},
   "outputs": [
    {
     "data": {
      "text/plain": [
       "array([23.95408785, 23.23680938, 24.84494339, 28.05465743, 26.0383445 ,\n",
       "       25.92954708, 24.70398848, 25.73832157, 25.83847096, 25.92056799,\n",
       "       22.25366013, 22.77007347, 25.30780578, 25.86026669, 22.01412945,\n",
       "       27.00001659, 25.0614957 , 24.7422531 , 26.32496166, 22.63206947,\n",
       "       26.50327535, 24.52442873, 24.35751331, 27.54874765, 27.17470332,\n",
       "       22.4380928 , 26.42229759, 27.97717471, 25.21895449, 23.41707063,\n",
       "       25.58854291, 22.45746759, 24.47263146, 27.92458232, 23.73160988,\n",
       "       22.63856104, 23.35128847, 25.86503957, 22.27872097, 24.39139866,\n",
       "       23.86771144, 27.36566979, 24.3359487 , 25.71078379, 26.07983892,\n",
       "       26.52054629, 23.5274778 , 25.69716111, 26.61540892, 23.21527008,\n",
       "       25.71335852, 27.00073327, 24.14187076, 25.15757258, 24.45617244,\n",
       "       24.29526952, 25.70278022, 23.48841025, 28.52617608, 24.38476069,\n",
       "       25.04272871, 25.96681263, 25.99712339, 25.08417283, 24.91058477,\n",
       "       25.68433693, 21.66172149, 25.33112281, 28.46301384, 24.57606983,\n",
       "       26.05926978, 21.44996474, 23.78342605, 24.43986012, 29.31420971,\n",
       "       22.15223208, 23.42935595, 25.9298554 , 26.32892283, 23.3697348 ,\n",
       "       25.4464816 , 28.20115741, 24.62933857, 24.21026896, 26.02261947,\n",
       "       25.14852265, 27.79299188, 24.49228959, 25.4250743 , 24.61607131,\n",
       "       27.87311164, 27.10928018, 23.52011953, 23.1574697 , 24.83826864,\n",
       "       23.04188271, 23.4267729 , 23.52962337, 26.23823139, 25.75817891])"
      ]
     },
     "execution_count": 51,
     "metadata": {},
     "output_type": "execute_result"
    }
   ],
   "source": [
    "b"
   ]
  },
  {
   "cell_type": "code",
   "execution_count": null,
   "id": "ba152005-694c-44c7-aab6-33b77ad7f586",
   "metadata": {},
   "outputs": [],
   "source": [
    "U = U.value\n",
    "\n",
    "B, C = np.linalg.eig(U);\n",
    "\n",
    "u = C[:,1];\n",
    "for i in 1:n\n",
    "    u[i] = u[i]/abs(u[i])\n",
    "end\n",
    "\n",
    "b_angle_hat = atan.(imag.(u) ./ real.(u))\n",
    "b_angle_true = atan.( imag.(b_true) ./ real.(b_true))\n",
    "x_angle = atan.(imag.(x) ./ real.(x))"
   ]
  }
 ],
 "metadata": {
  "kernelspec": {
   "display_name": "basilisk",
   "language": "python",
   "name": "python3"
  },
  "language_info": {
   "codemirror_mode": {
    "name": "ipython",
    "version": 3
   },
   "file_extension": ".py",
   "mimetype": "text/x-python",
   "name": "python",
   "nbconvert_exporter": "python",
   "pygments_lexer": "ipython3",
   "version": "3.10.5"
  },
  "vscode": {
   "interpreter": {
    "hash": "44be4f083d0536c4e69814e64cf3465cbf39f69102d5c0a955cb4a1a5924dad2"
   }
  }
 },
 "nbformat": 4,
 "nbformat_minor": 5
}
